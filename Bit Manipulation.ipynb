{
 "cells": [
  {
   "cell_type": "code",
   "execution_count": 1,
   "id": "8527d320",
   "metadata": {},
   "outputs": [
    {
     "data": {
      "application/vnd.jupyter.widget-view+json": {
       "model_id": "e4176f9566a04467a0a62d7d377c44ed",
       "version_major": 2,
       "version_minor": 0
      },
      "text/plain": [
       "IntSlider(value=50)"
      ]
     },
     "metadata": {},
     "output_type": "display_data"
    }
   ],
   "source": [
    "# prompt: a slider using jupyter widgets\n",
    "\n",
    "import ipywidgets as widgets\n",
    "slider = widgets.IntSlider(min=0, max=100, step=1, value=50)\n",
    "display(slider)\n"
   ]
  },
  {
   "cell_type": "code",
   "execution_count": 6,
   "id": "ff8ec7cd",
   "metadata": {},
   "outputs": [
    {
     "name": "stdout",
     "output_type": "stream",
     "text": [
      "6\n"
     ]
    }
   ],
   "source": [
    "l = [2, 1, 2, 6, 1, 2, 4, 5, 4, 5, 4, 5, 1]\n",
    "x = 0\n",
    "for i in l:\n",
    "    count = 0\n",
    "    for j in l:\n",
    "        if i == j:\n",
    "            count += 1\n",
    "    if count == 1:\n",
    "        x += i\n",
    "print(x)"
   ]
  },
  {
   "cell_type": "code",
   "execution_count": 20,
   "id": "a6a09156-648a-4012-a9a2-24ac039d53ea",
   "metadata": {},
   "outputs": [
    {
     "name": "stdout",
     "output_type": "stream",
     "text": [
      "3\n"
     ]
    }
   ],
   "source": [
    "l = [2, 1, 2, 1, 1, 2, 3, 4, 5, 4, 5, 4, 5, 1]\n",
    "d = {}\n",
    "for i in l:\n",
    "    d[i] = d.get(i, 0) + 1\n",
    "for key, value in d.items():\n",
    "    if value == 1:\n",
    "        print(key)"
   ]
  },
  {
   "cell_type": "code",
   "execution_count": 21,
   "id": "d5815015-8bfe-4a5e-96c1-49e636fdccc7",
   "metadata": {},
   "outputs": [
    {
     "name": "stdout",
     "output_type": "stream",
     "text": [
      "3\n"
     ]
    }
   ],
   "source": [
    "l = [2, 1, 2, 1, 1, 2, 3, 4, 5, 4, 5, 4, 5, 1]\n",
    "ans = 0\n",
    "for i in range(32):\n",
    "    c = 0\n",
    "    for j in range(len(l)):\n",
    "        if((l[j] & (1 << i)) > 0):c += 1\n",
    "    if (c % 3 != 0):\n",
    "        ans = ans | (1 << i)\n",
    "print(ans)"
   ]
  },
  {
   "cell_type": "code",
   "execution_count": 7,
   "id": "f193c0cd-73ba-4f5f-8b74-8437dc69b6c4",
   "metadata": {},
   "outputs": [
    {
     "name": "stdout",
     "output_type": "stream",
     "text": [
      "1010\n"
     ]
    }
   ],
   "source": [
    "n = \n",
    "print(str(bin(n))[2:])"
   ]
  },
  {
   "cell_type": "code",
   "execution_count": 29,
   "id": "a5a51d8f-530b-4c56-b0f5-3d742bb2a7ce",
   "metadata": {},
   "outputs": [
    {
     "name": "stdin",
     "output_type": "stream",
     "text": [
      " 10\n"
     ]
    },
    {
     "name": "stdout",
     "output_type": "stream",
     "text": [
      "8\n"
     ]
    }
   ],
   "source": [
    "n = int(input())\n",
    "r = 1\n",
    "while r * 2 < n:\n",
    "    r *= 2\n",
    "if  abs(n - r) < abs(n - r * 2):\n",
    "    print(r)\n",
    "else:\n",
    "    print(r * 2)"
   ]
  },
  {
   "cell_type": "code",
   "execution_count": 32,
   "id": "789286ca-71c2-4d18-bc34-a43c6271a875",
   "metadata": {},
   "outputs": [
    {
     "name": "stdin",
     "output_type": "stream",
     "text": [
      " 15\n"
     ]
    },
    {
     "name": "stdout",
     "output_type": "stream",
     "text": [
      "16\n"
     ]
    }
   ],
   "source": [
    "n = int(input()) # 10\n",
    "r = 1\n",
    "while r * 2 < n: # 2 < 10 --> 4, 8\n",
    "    r *= 2\n",
    "if abs(n - r) < abs(n - r * 2): # 10 - 8 = 2, 10 - 16 = 6\n",
    "    print(r)\n",
    "else:\n",
    "    print(r * 2)"
   ]
  },
  {
   "cell_type": "code",
   "execution_count": 16,
   "id": "df3a6387-b6e4-41be-984d-0230ef0d600e",
   "metadata": {},
   "outputs": [
    {
     "name": "stdin",
     "output_type": "stream",
     "text": [
      " 6\n",
      " 7,1,5,2,3,9\n",
      " 0 5\n"
     ]
    },
    {
     "name": "stdout",
     "output_type": "stream",
     "text": [
      "0\n"
     ]
    }
   ],
   "source": [
    "n = int(input())\n",
    "x = list(map(int, input().split(',')))\n",
    "l, r = map(int, input().split())\n",
    "k = x[l]\n",
    "for i in range(l + 1, r + 1):\n",
    "    k &= x[i]\n",
    "print(k)"
   ]
  },
  {
   "cell_type": "code",
   "execution_count": null,
   "id": "e9e1a228-2566-47c3-82bf-710f8aec47fd",
   "metadata": {},
   "outputs": [],
   "source": []
  }
 ],
 "metadata": {
  "kernelspec": {
   "display_name": "Python 3 (ipykernel)",
   "language": "python",
   "name": "python3"
  },
  "language_info": {
   "codemirror_mode": {
    "name": "ipython",
    "version": 3
   },
   "file_extension": ".py",
   "mimetype": "text/x-python",
   "name": "python",
   "nbconvert_exporter": "python",
   "pygments_lexer": "ipython3",
   "version": "3.11.0"
  }
 },
 "nbformat": 4,
 "nbformat_minor": 5
}
