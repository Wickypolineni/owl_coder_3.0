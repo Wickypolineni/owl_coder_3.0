{
 "cells": [
  {
   "cell_type": "markdown",
   "id": "3eec84bc-b797-4ac0-b9bf-57fc3caca182",
   "metadata": {},
   "source": [
    "# Arrays"
   ]
  },
  {
   "cell_type": "code",
   "execution_count": 8,
   "id": "ad7b9845-f5db-44b9-8d56-b47b8397eff5",
   "metadata": {},
   "outputs": [
    {
     "name": "stdout",
     "output_type": "stream",
     "text": [
      "6\n"
     ]
    }
   ],
   "source": [
    "l = [-2, 1, -3, 4, -1, 2, 1, -5, 4]\n",
    "cm = gm = l[0]\n",
    "for i in range(1, len(l)):\n",
    "    cm = max(l[i], l[i] + cm)\n",
    "    gm = max(gm, cm)\n",
    "print(gm)"
   ]
  },
  {
   "cell_type": "code",
   "execution_count": 26,
   "id": "fc7bb99e-110b-48c0-8d5d-ed69b4cf7565",
   "metadata": {},
   "outputs": [
    {
     "name": "stdout",
     "output_type": "stream",
     "text": [
      "[5, 6, 7, 1, 2, 3, 4]\n"
     ]
    }
   ],
   "source": [
    "l = [1, 2, 3, 4, 5, 6, 7]\n",
    "k = 3\n",
    "x = l[k + 1:]\n",
    "print(x + l[:k + 1])"
   ]
  },
  {
   "cell_type": "code",
   "execution_count": 29,
   "id": "ff1b4162-b605-4d2d-9b70-087f4642d6ce",
   "metadata": {},
   "outputs": [
    {
     "name": "stdout",
     "output_type": "stream",
     "text": [
      "Counter({'a': 1})\n"
     ]
    }
   ],
   "source": [
    "from collections import Counter\n",
    "c = Counter()\n",
    "c['a'] += 1\n",
    "print(c)"
   ]
  },
  {
   "cell_type": "code",
   "execution_count": 31,
   "id": "b15d263b-e255-4b19-976b-c4bdaca50d94",
   "metadata": {},
   "outputs": [
    {
     "name": "stdout",
     "output_type": "stream",
     "text": [
      "1 1\n",
      "3 1\n",
      "4 2\n",
      "7 1\n",
      "63 1\n"
     ]
    }
   ],
   "source": [
    "l=[1,3,4,7,4,63]\n",
    "dic={}\n",
    "for i in l:\n",
    "    if i not in dic:\n",
    "        dic[i]=1\n",
    "    else:\n",
    "        dic[i]+=1\n",
    "for k,v in dic.items():\n",
    "    print(k,v)"
   ]
  },
  {
   "cell_type": "code",
   "execution_count": 39,
   "id": "d5bbc180-3ac9-456a-8208-2420cc1a4a9b",
   "metadata": {},
   "outputs": [
    {
     "name": "stdin",
     "output_type": "stream",
     "text": [
      " 2, 3, 4, 5, 6\n"
     ]
    },
    {
     "name": "stdout",
     "output_type": "stream",
     "text": [
      "7\n"
     ]
    }
   ],
   "source": [
    "l = list(map(int, input().split(',')))\n",
    "v = 0\n",
    "for i in range(len(l)):\n",
    "    for j in range(i + 1, len(l)):\n",
    "        r = l[i] ^ l[j]\n",
    "        if r > v:\n",
    "            v = r\n",
    "print(v)"
   ]
  },
  {
   "cell_type": "code",
   "execution_count": 50,
   "id": "f4ada0c7-890f-46ae-b207-04cfd3798baf",
   "metadata": {},
   "outputs": [
    {
     "name": "stdin",
     "output_type": "stream",
     "text": [
      " 2\n"
     ]
    },
    {
     "name": "stdout",
     "output_type": "stream",
     "text": [
      "1\n"
     ]
    }
   ],
   "source": [
    "n = int(input())\n",
    "c = 0\n",
    "while (n != 0):\n",
    "    n = n & (n - 1)\n",
    "    c += 1\n",
    "print(c)"
   ]
  },
  {
   "cell_type": "code",
   "execution_count": 45,
   "id": "64b69938-56f2-4dd7-bc5e-cb38fb89023c",
   "metadata": {},
   "outputs": [
    {
     "name": "stdin",
     "output_type": "stream",
     "text": [
      " 5\n"
     ]
    },
    {
     "name": "stdout",
     "output_type": "stream",
     "text": [
      "2\n"
     ]
    }
   ],
   "source": [
    "n = int(input())\n",
    "count = 0\n",
    "while n:\n",
    "    count += n & 1\n",
    "    n >>= 1\n",
    "print(count)"
   ]
  }
 ],
 "metadata": {
  "kernelspec": {
   "display_name": "Python 3 (ipykernel)",
   "language": "python",
   "name": "python3"
  },
  "language_info": {
   "codemirror_mode": {
    "name": "ipython",
    "version": 3
   },
   "file_extension": ".py",
   "mimetype": "text/x-python",
   "name": "python",
   "nbconvert_exporter": "python",
   "pygments_lexer": "ipython3",
   "version": "3.11.0"
  }
 },
 "nbformat": 4,
 "nbformat_minor": 5
}
